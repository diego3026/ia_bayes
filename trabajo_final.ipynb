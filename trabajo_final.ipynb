{
  "cells": [
    {
      "cell_type": "code",
      "execution_count": null,
      "metadata": {},
      "outputs": [],
      "source": [
        "!pip install numpy\n",
        "!pip install matplotlib\n",
        "!pip install pandas"
      ]
    },
    {
      "cell_type": "code",
      "execution_count": null,
      "metadata": {
        "id": "q-6VdKsbKCmk"
      },
      "outputs": [],
      "source": [
        "import numpy as np\n",
        "import matplotlib.pyplot as plt\n",
        "import pandas as pd\n",
        "import re"
      ]
    },
    {
      "cell_type": "code",
      "execution_count": null,
      "metadata": {},
      "outputs": [],
      "source": [
        "def quitar_url(texto):\n",
        "    url_pattern = r'https?://(?:[a-zA-Z]|[0-9]|[$-_@.&+]|[!*\\\\(\\\\),]|(?:%[0-9a-fA-F][0-9a-fA-F]))+'\n",
        "\n",
        "    texto_sin_url = re.sub(url_pattern, '', texto, flags=re.MULTILINE)\n",
        "\n",
        "    return texto_sin_url"
      ]
    },
    {
      "cell_type": "code",
      "execution_count": null,
      "metadata": {},
      "outputs": [],
      "source": [
        "def quitar_acentos(texto):\n",
        "    # Diccionario de equivalencias de letras con acento a letras sin acento\n",
        "    equivalencias = {\n",
        "        \"á\": \"a\", \"é\": \"e\", \"í\": \"i\", \"ó\": \"o\", \"ú\": \"u\",\n",
        "        \"Á\": \"A\", \"É\": \"E\", \"Í\": \"I\", \"Ó\": \"O\", \"Ú\": \"U\"\n",
        "    }\n",
        "    \n",
        "    # Crea una lista de letras sin acento aplicando el diccionario de equivalencias\n",
        "    letras_sin_acentos = [equivalencias.get(letra, letra) for letra in texto]\n",
        "    \n",
        "    # Une las letras sin acento en un solo texto y lo devuelve\n",
        "    return ''.join(letras_sin_acentos)"
      ]
    },
    {
      "cell_type": "code",
      "execution_count": null,
      "metadata": {},
      "outputs": [],
      "source": [
        "def eliminar_cadenas_desprovistas(texto):\n",
        "\n",
        "    if any(caracter.isalpha() for caracter in texto):\n",
        "        texto_final = texto\n",
        "    else:\n",
        "        texto_final = \"\"\n",
        "\n",
        "    return texto_final"
      ]
    },
    {
      "cell_type": "code",
      "execution_count": null,
      "metadata": {},
      "outputs": [],
      "source": [
        "def limpiar_texto(texto):\n",
        "    texto_sin_url = quitar_url(texto)\n",
        "    if len(texto_sin_url) >= 2:\n",
        "        texto_sin_acentos = quitar_acentos(texto_sin_url)\n",
        "        texto_sin_saltos = texto_sin_acentos.replace(\"\\n\", \"\")\n",
        "        texto_limpio = eliminar_cadenas_desprovistas(texto_sin_saltos)\n",
        "        return texto_limpio "
      ]
    },
    {
      "cell_type": "code",
      "execution_count": null,
      "metadata": {},
      "outputs": [],
      "source": [
        "def agregar_valor(diccionario, clave, valor):\n",
        "    if clave in diccionario:\n",
        "        diccionario[clave].append(valor)\n",
        "    else:\n",
        "        diccionario[clave] = [valor]"
      ]
    },
    {
      "cell_type": "code",
      "execution_count": null,
      "metadata": {},
      "outputs": [],
      "source": [
        "def eliminar_segun_longitud(diccionario):\n",
        "    for clave, valor in diccionario.items():\n",
        "        if len(valor) <= 5:\n",
        "            clave_a_eliminar = clave\n",
        "\n",
        "    del diccionario[clave_a_eliminar]"
      ]
    },
    {
      "cell_type": "code",
      "execution_count": null,
      "metadata": {
        "id": "oQTkM4kePHc1"
      },
      "outputs": [],
      "source": [
        "file = open(\"./tuits_bayes.txt\", \"r\",encoding=\"utf8\")\n",
        "contador = 0\n",
        "diccionario_tweets_name = {}\n",
        "for line in file:\n",
        "  if (contador!=0):\n",
        "    lineArray = []\n",
        "\n",
        "    contenido_comillas = \"\"\n",
        "\n",
        "    entre_comillas = False\n",
        "\n",
        "    for caracter in line:\n",
        "        if caracter == '\"':\n",
        "            entre_comillas = not entre_comillas\n",
        "        elif entre_comillas:\n",
        "            contenido_comillas += caracter\n",
        "        elif caracter == ',':\n",
        "            lineArray.append(contenido_comillas)\n",
        "            contenido_comillas = \"\"\n",
        "        else:\n",
        "            contenido_comillas += caracter\n",
        "\n",
        "    lineArray.append(contenido_comillas)\n",
        "    texto_limpio = limpiar_texto(lineArray[3])\n",
        "    \n",
        "    if texto_limpio != \"\":\n",
        "      agregar_valor(diccionario_tweets_name,lineArray[2],texto_limpio)\n",
        "\n",
        "  contador += 1\n",
        "\n",
        "\n",
        "file.close()\n",
        "\n",
        "claves_a_eliminar = []  \n",
        "\n",
        "for clave, valor in diccionario_tweets_name.items():\n",
        "  if len(valor)<=5:\n",
        "    claves_a_eliminar.append(clave) \n",
        "\n",
        "for clave in claves_a_eliminar:\n",
        "  del diccionario_tweets_name[clave]\n",
        "\n",
        "for clave, valor in diccionario_tweets_name.items():\n",
        "  print(clave)\n",
        "  print(valor)\n",
        "\n",
        "train_data = {}\n",
        "test_data = {}\n",
        "porcentaje = 0.8\n",
        "\n",
        "for user, items in diccionario_tweets_name.items():\n",
        "  punto_separacion = int(len(items) * porcentaje)\n",
        "  train_data[user] = items[:punto_separacion]\n",
        "  test_data[user] = items[punto_separacion:]\n",
        "\n",
        "\n",
        "print(train_data)\n",
        "print(test_data)"
      ]
    },
    {
      "cell_type": "code",
      "execution_count": null,
      "metadata": {},
      "outputs": [],
      "source": [
        "def eliminar_cadenas_desprovistas_prueba(textos):\n",
        "    textos_validos = []\n",
        "    \n",
        "    for texto in textos:\n",
        "        if any(caracter.isalpha() for caracter in texto):\n",
        "            textos_validos.append(texto)\n",
        "    \n",
        "    return textos_validos\n",
        "\n",
        "textos = [\"123456\", \"!@#$%^&*\", \"   \", \"Texto con letras\", \"123abc456\"]\n",
        "textos_validos = eliminar_cadenas_desprovistas(textos)\n",
        "print(textos_validos)\n"
      ]
    }
  ],
  "metadata": {
    "colab": {
      "provenance": []
    },
    "kernelspec": {
      "display_name": "Python 3",
      "name": "python3"
    },
    "language_info": {
      "codemirror_mode": {
        "name": "ipython",
        "version": 3
      },
      "file_extension": ".py",
      "mimetype": "text/x-python",
      "name": "python",
      "nbconvert_exporter": "python",
      "pygments_lexer": "ipython3",
      "version": "3.11.9"
    }
  },
  "nbformat": 4,
  "nbformat_minor": 0
}
